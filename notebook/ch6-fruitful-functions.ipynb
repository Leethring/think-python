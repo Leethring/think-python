{
 "cells": [
  {
   "cell_type": "code",
   "execution_count": 2,
   "id": "c2e11e52",
   "metadata": {},
   "outputs": [],
   "source": [
    "import math"
   ]
  },
  {
   "cell_type": "code",
   "execution_count": 3,
   "id": "cc8fda5b",
   "metadata": {},
   "outputs": [
    {
     "name": "stdout",
     "output_type": "stream",
     "text": [
      "28.274333882308138\n"
     ]
    }
   ],
   "source": [
    "# Function returns a area\n",
    "\n",
    "def area(radius):\n",
    "    a = math.pi * radius**2\n",
    "    return a \n",
    "\n",
    "print(area(3))"
   ]
  },
  {
   "cell_type": "code",
   "execution_count": null,
   "id": "e966db12",
   "metadata": {},
   "outputs": [],
   "source": [
    "# Compare function\n",
    "# return 1 if x > y, 0 if x == y, and -1 if x < y\n",
    "def compare(x, y):\n",
    "    if x > y:\n",
    "        return 1\n",
    "    elif:\n",
    "        \n",
    "        "
   ]
  }
 ],
 "metadata": {
  "kernelspec": {
   "display_name": "Python 3 (ipykernel)",
   "language": "python",
   "name": "python3"
  },
  "language_info": {
   "codemirror_mode": {
    "name": "ipython",
    "version": 3
   },
   "file_extension": ".py",
   "mimetype": "text/x-python",
   "name": "python",
   "nbconvert_exporter": "python",
   "pygments_lexer": "ipython3",
   "version": "3.9.12"
  }
 },
 "nbformat": 4,
 "nbformat_minor": 5
}
